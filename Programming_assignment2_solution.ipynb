{
 "cells": [
  {
   "cell_type": "markdown",
   "metadata": {},
   "source": [
    "1.\tWrite a Python program to convert kilometers to miles?"
   ]
  },
  {
   "cell_type": "code",
   "execution_count": 9,
   "metadata": {},
   "outputs": [
    {
     "name": "stdout",
     "output_type": "stream",
     "text": [
      "Enter value in Kilometers: 1\n",
      "1.00 kilometers is equal to 0.62 miles\n"
     ]
    }
   ],
   "source": [
    "def KmtoMile(n):\n",
    "    con_fac = 0.621 \n",
    "    miles = n * con_fac\n",
    "    print('%0.2f kilometers is equal to %0.2f miles' %(kilometers,miles))\n",
    "    \n",
    "\n",
    "var = float(input(\"Enter value in Kilometers: \"))\n",
    "KmtoMile(var)"
   ]
  },
  {
   "cell_type": "markdown",
   "metadata": {},
   "source": [
    "2.\tWrite a Python program to convert Celsius to Fahrenheit?"
   ]
  },
  {
   "cell_type": "code",
   "execution_count": 11,
   "metadata": {},
   "outputs": [
    {
     "name": "stdout",
     "output_type": "stream",
     "text": [
      "Enter value in celsius: 1\n",
      "1.0 degree Celsius is equal to 33.8 degree Fahrenheit\n"
     ]
    }
   ],
   "source": [
    "def CelToFah(celsius):\n",
    "    fahrenheit = (celsius * 1.8) + 32 \n",
    "    \n",
    "    print('%0.1f degree Celsius is equal to %0.1f degree Fahrenheit' %(celsius,fahrenheit))\n",
    "    \n",
    "\n",
    "var = float(input(\"Enter value in celsius: \"))\n",
    "CelToFah(var)"
   ]
  },
  {
   "cell_type": "markdown",
   "metadata": {},
   "source": [
    "3.\tWrite a Python program to display calendar?"
   ]
  },
  {
   "cell_type": "code",
   "execution_count": 14,
   "metadata": {},
   "outputs": [
    {
     "name": "stdout",
     "output_type": "stream",
     "text": [
      "Enter year: 2022\n",
      "Enter month: 1\n",
      "    January 2022\n",
      "Mo Tu We Th Fr Sa Su\n",
      "                1  2\n",
      " 3  4  5  6  7  8  9\n",
      "10 11 12 13 14 15 16\n",
      "17 18 19 20 21 22 23\n",
      "24 25 26 27 28 29 30\n",
      "31\n",
      "\n"
     ]
    }
   ],
   "source": [
    "import calendar\n",
    "\n",
    "\n",
    "\n",
    "def dispCal(yy,mm):\n",
    "    print(calendar.month(yy, mm))\n",
    "\n",
    "yy = int(input(\"Enter year: \"))\n",
    "mm = int(input(\"Enter month: \"))\n",
    "dispCal(yy, mm)\n"
   ]
  },
  {
   "cell_type": "markdown",
   "metadata": {},
   "source": [
    "4.\tWrite a Python program to solve quadratic equation?"
   ]
  },
  {
   "cell_type": "code",
   "execution_count": 17,
   "metadata": {},
   "outputs": [
    {
     "name": "stdout",
     "output_type": "stream",
     "text": [
      "Enter coefficient of x^2: 1\n",
      "Enter coefficient of x: 5\n",
      "Enter constant: 7\n",
      "The solution are (-2.5-0.8660254037844386j) and (-2.5+0.8660254037844386j)\n"
     ]
    }
   ],
   "source": [
    "#quadratic equation ax**2 + bx + c = 0\n",
    "import cmath as fac\n",
    "def solution(a,b,c):\n",
    "    d = (b**2) - (4*a*c) # find discriminant\n",
    "    sol1 = (-b-fac.sqrt(d))/(2*a)\n",
    "    sol2 = (-b+fac.sqrt(d))/(2*a)\n",
    "    print('The solution are {0} and {1}'.format(sol1,sol2))\n",
    "    \n",
    "a =int(input(\"Enter coefficient of x^2: \"))\n",
    "b = int (input(\"Enter coefficient of x: \"))\n",
    "c = int (input(\"Enter constant: \"))\n",
    "solution(a,b,c)\n",
    "\n"
   ]
  },
  {
   "cell_type": "markdown",
   "metadata": {},
   "source": [
    "5.\tWrite a Python program to swap two variables without temp variable?"
   ]
  },
  {
   "cell_type": "code",
   "execution_count": 19,
   "metadata": {},
   "outputs": [
    {
     "name": "stdout",
     "output_type": "stream",
     "text": [
      "Enter first variable: rahul\n",
      "Enter second variable: kumar\n",
      "Before swapping: \n",
      "Value of x :  rahul  and y :  kumar\n",
      "After swapping: \n",
      "Value of x :  kumar  and y :  rahul\n"
     ]
    }
   ],
   "source": [
    "\n",
    "def swap(x,y):\n",
    "    print (\"Before swapping: \")\n",
    "    print(\"Value of x : \", x, \" and y : \", y)\n",
    "\n",
    "    x, y = y, x\n",
    "\n",
    "    print (\"After swapping: \")\n",
    "    print(\"Value of x : \", x, \" and y : \", y)\n",
    "    \n",
    "x = input(\"Enter first variable: \")\n",
    "y = input(\"Enter second variable: \")\n",
    "swap(x,y)\n",
    "    \n",
    "    "
   ]
  },
  {
   "cell_type": "code",
   "execution_count": null,
   "metadata": {},
   "outputs": [],
   "source": []
  }
 ],
 "metadata": {
  "kernelspec": {
   "display_name": "Python 3",
   "language": "python",
   "name": "python3"
  },
  "language_info": {
   "codemirror_mode": {
    "name": "ipython",
    "version": 3
   },
   "file_extension": ".py",
   "mimetype": "text/x-python",
   "name": "python",
   "nbconvert_exporter": "python",
   "pygments_lexer": "ipython3",
   "version": "3.6.5"
  }
 },
 "nbformat": 4,
 "nbformat_minor": 2
}
