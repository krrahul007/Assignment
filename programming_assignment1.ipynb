{
 "cells": [
  {
   "cell_type": "markdown",
   "metadata": {},
   "source": [
    "1. Write a Python program to print \"Hello Python\"?"
   ]
  },
  {
   "cell_type": "code",
   "execution_count": 3,
   "metadata": {},
   "outputs": [
    {
     "name": "stdout",
     "output_type": "stream",
     "text": [
      "Hello Python\n"
     ]
    }
   ],
   "source": [
    "print(\"Hello Python\")"
   ]
  },
  {
   "cell_type": "markdown",
   "metadata": {},
   "source": [
    "2. Write a Python program to do arithmetical operations addition and division.?"
   ]
  },
  {
   "cell_type": "code",
   "execution_count": 2,
   "metadata": {},
   "outputs": [
    {
     "name": "stdout",
     "output_type": "stream",
     "text": [
      "addition of numbers are  85\n",
      "division of numbers are  6.0\n"
     ]
    }
   ],
   "source": [
    "def addition(a,b):\n",
    "    c = a + b\n",
    "    print(\"addition of numbers are \", c)\n",
    "\n",
    "def division(a,b):\n",
    "    c= a/b\n",
    "    print(\"division of numbers are \", c)\n",
    "    \n",
    "addition(40,45)\n",
    "division(30,5)"
   ]
  },
  {
   "cell_type": "markdown",
   "metadata": {},
   "source": [
    "3. Write a Python program to find the area of a triangle?"
   ]
  },
  {
   "cell_type": "code",
   "execution_count": 4,
   "metadata": {},
   "outputs": [
    {
     "name": "stdout",
     "output_type": "stream",
     "text": [
      "Enter length of Triangle40\n",
      "Enter breadth of Triangle40\n",
      "Area of triangle is : 800.0\n"
     ]
    }
   ],
   "source": [
    "def AreaTriange(a,b):\n",
    "    area = 0.5*a*b\n",
    "    print(\"Area of triangle is :\", area)\n",
    "    \n",
    "a = int(input(\"Enter length of Triangle\"))\n",
    "b = int(input(\"Enter breadth of Triangle\"))\n",
    "AreaTriange(a,b)"
   ]
  },
  {
   "cell_type": "markdown",
   "metadata": {},
   "source": [
    "4. Write a Python program to swap two variables?"
   ]
  },
  {
   "cell_type": "code",
   "execution_count": 6,
   "metadata": {},
   "outputs": [
    {
     "name": "stdout",
     "output_type": "stream",
     "text": [
      "Enter first number : 3\n",
      "Enter second number : 5\n",
      "after swap\n",
      "first number 5\n",
      "second number 3\n"
     ]
    }
   ],
   "source": [
    "def Swaps(a,b):\n",
    "    a, b =b, a\n",
    "    print(\"after swap\")\n",
    "    print(\"first number\",a)\n",
    "    print(\"second number\", b)\n",
    "    \n",
    "a,b = int(input(\"Enter first number : \")), int(input(\"Enter second number : \"))\n",
    "Swaps(a,b)"
   ]
  },
  {
   "cell_type": "markdown",
   "metadata": {},
   "source": [
    "5. Write a Python program to generate a random number?\n",
    "ans: Python random module provide the randint() method that generate an interger within \n",
    "     a specific range. "
   ]
  },
  {
   "cell_type": "code",
   "execution_count": 8,
   "metadata": {},
   "outputs": [
    {
     "name": "stdout",
     "output_type": "stream",
     "text": [
      "[4, 2, 10, 4, 13, 12]\n"
     ]
    }
   ],
   "source": [
    "import random\n",
    "\n",
    "rand_lst = []\n",
    "for i in range(0,6):\n",
    "    n = random.randint(0,20)\n",
    "    rand_lst.append(n)\n",
    "print(rand_lst)"
   ]
  },
  {
   "cell_type": "code",
   "execution_count": null,
   "metadata": {},
   "outputs": [],
   "source": []
  }
 ],
 "metadata": {
  "kernelspec": {
   "display_name": "Python 3",
   "language": "python",
   "name": "python3"
  },
  "language_info": {
   "codemirror_mode": {
    "name": "ipython",
    "version": 3
   },
   "file_extension": ".py",
   "mimetype": "text/x-python",
   "name": "python",
   "nbconvert_exporter": "python",
   "pygments_lexer": "ipython3",
   "version": "3.6.5"
  }
 },
 "nbformat": 4,
 "nbformat_minor": 2
}
