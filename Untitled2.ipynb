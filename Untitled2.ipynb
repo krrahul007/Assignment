{
 "cells": [
  {
   "cell_type": "markdown",
   "id": "9b01d140",
   "metadata": {},
   "source": [
    "# Python Screening Assignment\n",
    "\n",
    "1. Create a function in python to read the text file and replace specific content\n",
    "of the file."
   ]
  },
  {
   "cell_type": "code",
   "execution_count": 1,
   "id": "23c967e6",
   "metadata": {},
   "outputs": [],
   "source": [
    "def replace(filePath, text, subs):\n",
    "    read_file = open(file_path, \"r\")\n",
    "\n",
    "    new_file_content = \"\"\n",
    "    for line in read_file:\n",
    "        stripped_line = line.strip()\n",
    "        new_line = stripped_line.replace(text, subs)\n",
    "        new_file_content += new_line +\"\\n\"\n",
    "    read_file.close()\n",
    "\n",
    "    writing_file = open(file_path, \"w\")\n",
    "    writing_file.write(new_file_content)\n",
    "    writing_file.close()\n",
    "    \n",
    "file_path=\"example.txt\"\n",
    "text=\"placement\"\n",
    "subs=\"screening\"\n",
    "replace(file_path, text, subs)"
   ]
  }
 ],
 "metadata": {
  "kernelspec": {
   "display_name": "Python 3 (ipykernel)",
   "language": "python",
   "name": "python3"
  },
  "language_info": {
   "codemirror_mode": {
    "name": "ipython",
    "version": 3
   },
   "file_extension": ".py",
   "mimetype": "text/x-python",
   "name": "python",
   "nbconvert_exporter": "python",
   "pygments_lexer": "ipython3",
   "version": "3.9.7"
  }
 },
 "nbformat": 4,
 "nbformat_minor": 5
}
