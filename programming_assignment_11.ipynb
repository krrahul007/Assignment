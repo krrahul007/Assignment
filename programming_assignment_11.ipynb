{
 "cells": [
  {
   "cell_type": "markdown",
   "metadata": {},
   "source": [
    "1.\tWrite a Python program to find words which are greater than given length k?"
   ]
  },
  {
   "cell_type": "code",
   "execution_count": 4,
   "metadata": {
    "scrolled": true
   },
   "outputs": [
    {
     "name": "stdout",
     "output_type": "stream",
     "text": [
      "Enter length of k : 6\n",
      "['officially', 'Republic', '(Hindi:', 'Gaṇarājya),[24]', 'country', 'seventh-largest', 'country', 'second-most', 'populous', 'country,', 'populous', 'democracy', 'Bounded', 'Arabian', 'southwest,', 'southeast,', 'borders', 'Pakistan', 'west;[f]']\n"
     ]
    }
   ],
   "source": [
    "def string_k(k, str):\n",
    "    string = []\n",
    "    text = str.split(\" \")\n",
    "    for x in text:\n",
    "        if len(x) > k:\n",
    "            string.append(x)\n",
    "    return string\n",
    "\n",
    "k = int(input(\"Enter length of k : \"))\n",
    "str =\"India, officially the Republic of India (Hindi: Bhārat Gaṇarājya),[24] is a country in South Asia. It is the seventh-largest country by area, the second-most populous country, and the most populous democracy in the world. Bounded by the Indian Ocean on the south, the Arabian Sea on the southwest, and the Bay of Bengal on the southeast, it shares land borders with Pakistan to the west;[f] China, Nepal, and Bhutan to the n \"\n",
    "print(string_k(k, str))"
   ]
  },
  {
   "cell_type": "markdown",
   "metadata": {},
   "source": [
    "2.\tWrite a Python program for removing i-th character from a string?"
   ]
  },
  {
   "cell_type": "code",
   "execution_count": 6,
   "metadata": {},
   "outputs": [
    {
     "name": "stdout",
     "output_type": "stream",
     "text": [
      "before : \n",
      "This is my program to fulfill requirement \n",
      "after : \n",
      "Ths is my program to fulfill requirement \n"
     ]
    }
   ],
   "source": [
    "def remove(string, i): \n",
    "  \n",
    "    for j in range(len(string)):\n",
    "        if j == i:\n",
    "            string = string.replace(string[i], \"\", 1)\n",
    "    return string\n",
    "\n",
    "if __name__ == '__main__':\n",
    "      \n",
    "    string = \"This is my program to fulfill requirement \"\n",
    "    i = 5\n",
    "    print(\"before : \")\n",
    "    print(string)\n",
    "    print(\"after : \")\n",
    "    print(remove(string, i))"
   ]
  },
  {
   "cell_type": "markdown",
   "metadata": {},
   "source": [
    "3.\tWrite a Python program to split and join a string?"
   ]
  },
  {
   "cell_type": "code",
   "execution_count": 8,
   "metadata": {},
   "outputs": [
    {
     "name": "stdout",
     "output_type": "stream",
     "text": [
      "['This', 'is', 'my', 'program', 'to', 'fulfill', 'requirement']\n",
      "This-is-my-program-to-fulfill-requirement\n"
     ]
    }
   ],
   "source": [
    "\n",
    "def split_string(string):\n",
    "    list_string = string.split(' ')\n",
    "      \n",
    "    return list_string\n",
    "  \n",
    "def join_string(list_string):\n",
    "    string = '-'.join(list_string)\n",
    "      \n",
    "    return string\n",
    " \n",
    "if __name__ == '__main__':\n",
    "    string = 'This is my program to fulfill requirement'\n",
    "   \n",
    "    list_string = split_string(string)\n",
    "    print(list_string)\n",
    "  \n",
    "    new_string = join_string(list_string)\n",
    "    print(new_string)"
   ]
  },
  {
   "cell_type": "markdown",
   "metadata": {},
   "source": [
    "4.\tWrite a Python to check if a given string is binary string or not?"
   ]
  },
  {
   "cell_type": "code",
   "execution_count": 11,
   "metadata": {},
   "outputs": [
    {
     "name": "stdout",
     "output_type": "stream",
     "text": [
      "Yes\n"
     ]
    }
   ],
   "source": [
    "\n",
    "def check(string) :\n",
    "    s = {'0', '1'}\n",
    "    p = set(string)\n",
    "    if s == p or p == {'0'} or p == {'1'}:\n",
    "        print(\"Yes\")\n",
    "    else :\n",
    "        print(\"No\")\n",
    "\n",
    "if __name__ == \"__main__\" :\n",
    "    string = \"101010000111\"\n",
    "    check(string)\n"
   ]
  },
  {
   "cell_type": "markdown",
   "metadata": {},
   "source": [
    "5.\tWrite a Python program to find uncommon words from two Strings?"
   ]
  },
  {
   "cell_type": "code",
   "execution_count": 12,
   "metadata": {},
   "outputs": [
    {
     "name": "stdout",
     "output_type": "stream",
     "text": [
      "['is', 'rahul', 'please', 'donot', 'use']\n"
     ]
    }
   ],
   "source": [
    "\n",
    "def UncommonWords(A, B):\n",
    "\n",
    "    count = {}\n",
    "\n",
    "    for word in A.split():\n",
    "        count[word] = count.get(word, 0) + 1\n",
    "\n",
    "\n",
    "    for word in B.split():\n",
    "        count[word] = count.get(word, 0) + 1\n",
    "\n",
    "\n",
    "    return [word for word in count if count[word] == 1]\n",
    "\n",
    "\n",
    "A = \"my name is rahul kumar\"\n",
    "B = \"please donot use my name kumar\"\n",
    "\n",
    "\n",
    "print(UncommonWords(A, B))\n"
   ]
  },
  {
   "cell_type": "markdown",
   "metadata": {},
   "source": [
    "6.\tWrite a Python to find all duplicate characters in string?"
   ]
  },
  {
   "cell_type": "code",
   "execution_count": 1,
   "metadata": {},
   "outputs": [
    {
     "name": "stdout",
     "output_type": "stream",
     "text": [
      "r a h u   k i s o n t \n"
     ]
    }
   ],
   "source": [
    "string = \"rahul kumar is working on this project\"\n",
    "duplicates = {}\n",
    "for char in string:\n",
    "   if char in duplicates:\n",
    "      duplicates[char] += 1\n",
    "   else:\n",
    "      duplicates[char] = 1\n",
    "for key, value in duplicates.items():\n",
    "   if value > 1:\n",
    "      print(key, end = \" \")\n",
    "print()"
   ]
  },
  {
   "cell_type": "markdown",
   "metadata": {},
   "source": [
    "7.\tWrite a Python Program to check if a string contains any special character?"
   ]
  },
  {
   "cell_type": "code",
   "execution_count": 3,
   "metadata": {},
   "outputs": [
    {
     "name": "stdout",
     "output_type": "stream",
     "text": [
      "String is not accepted.\n"
     ]
    }
   ],
   "source": [
    "import re\n",
    "\n",
    "def run(string):\n",
    "    regex = re.compile('[@_!#$%^&*()<>?/\\|}{~:]')   \n",
    "    if(regex.search(string) == None):\n",
    "        print(\"String is accepted\")\n",
    "          \n",
    "    else:\n",
    "        print(\"String is not accepted.\")\n",
    "\n",
    "if __name__ == '__main__' :\n",
    "    string = \"RAhul$Kumar\"\n",
    "    run(string)"
   ]
  },
  {
   "cell_type": "code",
   "execution_count": null,
   "metadata": {},
   "outputs": [],
   "source": []
  }
 ],
 "metadata": {
  "kernelspec": {
   "display_name": "Python 3",
   "language": "python",
   "name": "python3"
  },
  "language_info": {
   "codemirror_mode": {
    "name": "ipython",
    "version": 3
   },
   "file_extension": ".py",
   "mimetype": "text/x-python",
   "name": "python",
   "nbconvert_exporter": "python",
   "pygments_lexer": "ipython3",
   "version": "3.6.5"
  }
 },
 "nbformat": 4,
 "nbformat_minor": 2
}
